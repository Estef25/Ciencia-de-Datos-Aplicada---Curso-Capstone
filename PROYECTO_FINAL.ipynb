{
  "nbformat": 4,
  "nbformat_minor": 0,
  "metadata": {
    "colab": {
      "name": "PROYECTO FINAL.ipynb",
      "provenance": [],
      "collapsed_sections": []
    },
    "kernelspec": {
      "name": "python3",
      "display_name": "Python 3"
    },
    "language_info": {
      "name": "python"
    }
  },
  "cells": [
    {
      "cell_type": "markdown",
      "source": [
        "### PROYECTO FINAL"
      ],
      "metadata": {
        "id": "jR9p85deuD_3"
      }
    },
    {
      "cell_type": "markdown",
      "source": [
        "*Este proyecto tiene como objetivo demostrar lo aprendido en el curso de Ciencia de Datos Aplicados "
      ],
      "metadata": {
        "id": "TDBfHB6Ngoir"
      }
    },
    {
      "cell_type": "code",
      "execution_count": null,
      "metadata": {
        "id": "3HK8_fF-t1Rp"
      },
      "outputs": [],
      "source": [
        "import pandas as pd\n",
        "import numpy as np"
      ]
    },
    {
      "cell_type": "code",
      "source": [
        "str = \"¡Hola, Proyecto Final del Curso!\"\n",
        "print(str)"
      ],
      "metadata": {
        "colab": {
          "base_uri": "https://localhost:8080/"
        },
        "id": "O8P86fPqhBPC",
        "outputId": "858fdcbe-e4eb-49f4-fca9-dc0b5037e4fa"
      },
      "execution_count": null,
      "outputs": [
        {
          "output_type": "stream",
          "name": "stdout",
          "text": [
            "¡Hola, Proyecto Final del Curso!\n"
          ]
        }
      ]
    }
  ]
}